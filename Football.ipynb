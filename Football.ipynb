{
  "cells": [
    {
      "cell_type": "code",
      "execution_count": null,
      "metadata": {
        "id": "_NShB03pB8Pj"
      },
      "outputs": [],
      "source": [
        "import random\n",
        "class Team:\n",
        "  def __init__(self, name, attack, defense, goals, points, trophies):\n",
        "    self.name = str(name)\n",
        "    self.attack = int(attack)\n",
        "    self.defense = int(defense)\n",
        "    self.goals = int(goals)\n",
        "    self.points = int(points)\n",
        "    self.total = int(trophies)\n"
      ]
    },
    {
      "cell_type": "code",
      "execution_count": null,
      "metadata": {
        "id": "uoU6dlgdCQL-"
      },
      "outputs": [],
      "source": [
        "team_a = Team(\"FCB\", 1, 1,0,0,0)\n",
        "team_b = Team(\"RMFC\", 5,5,0,0,0)\n",
        "team_c = Team(\"SFC\", 1, 1, 0,0,0)\n",
        "team_d = Team(\"MUFC\", 3,3,0,0,0)\n",
        "team_e = Team(\"PFF\", 10,10,0,0,0)\n",
        "\n",
        "teams = [team_a, team_b, team_c,team_d, team_e]"
      ]
    },
    {
      "cell_type": "code",
      "execution_count": null,
      "metadata": {
        "id": "LNey05EfC2YQ"
      },
      "outputs": [],
      "source": [
        "def playmatch(team1,team2):\n",
        "  ## Setting Goals to Zero\n",
        "  team1.goals = 0\n",
        "  team2.goals = 0\n",
        "  matchlist = [team1, team2]\n",
        "  ## Commentary\n",
        "  lines = [\n",
        "      \"scored a wonderful goal!\",\n",
        "      \"kicks into the net with great power!\",\n",
        "      \"scores a GOAAAALLLL\",\n",
        "      \"scores a fiercy Goal\",\n",
        "      \"has impressed us with this Goal\",\n",
        "      \"has done great job with their attackers, truly evident from this goal\"\n",
        "  ]\n",
        "  ## Play Time\n",
        "  for i in range(90):\n",
        "    random.shuffle(matchlist)\n",
        "    attackteam = matchlist[0]\n",
        "    defenseteam = matchlist[1]\n",
        "    prob = random.randrange(1,100)\n",
        "    check = 95\n",
        "    if prob > check:\n",
        "      if (random.random() ** ((attackteam.attack - defenseteam.defense)/100)) > 0.8:\n",
        "        ### print(\"Time {}: {} {}\".format(i, attackteam.name, random.choice(lines)))\n",
        "        attackteam.goals += 1\n",
        "    else:\n",
        "      pass\n",
        "  ## Awarding the win\n",
        "  if team1.goals > team2.goals:\n",
        "    team1.points += 2\n",
        "  elif team2.goals > team1.goals:\n",
        "    team2.points +=2\n",
        "  else:\n",
        "    team1.points +=1\n",
        "    team2.points +=1\n",
        "\n",
        "  ## Printing the match result\n",
        "  ##print(\"-------------Match No {}--------------\")\n",
        "  ##print(\"{} {}, wins {}\".format(team1.name, team1.goals, team1.wins))\n",
        "  ##print(\"{} {}, wins {}\".format(team2.name, team2.goals, team2.wins))\n",
        "  ##print(\"--------------------------------------\")\n"
      ]
    },
    {
      "cell_type": "code",
      "source": [
        "def season(teams, mps): #mps is the matches per season\n",
        "  for i in range(mps):\n",
        "    print(\"Playing a set\")\n",
        "    for team in teams:\n",
        "      for cmpt in teams:\n",
        "        if team.name != cmpt.name:\n",
        "          playmatch(team,cmpt)\n",
        "        else:\n",
        "          pass\n",
        "\n",
        "  for team in teams:\n",
        "    print(\"{} Has {} points\".format(team.name, team.points))"
      ],
      "metadata": {
        "id": "dUl7hZItfIO5"
      },
      "execution_count": null,
      "outputs": []
    },
    {
      "cell_type": "code",
      "source": [
        "count = 0\n",
        "while count < 1:\n",
        "  season(teams,1)\n",
        "  count +=1"
      ],
      "metadata": {
        "id": "VzskjJgAgUE1"
      },
      "execution_count": null,
      "outputs": []
    },
    {
      "cell_type": "code",
      "source": [],
      "metadata": {
        "id": "a0EjVQAFgWOT"
      },
      "execution_count": null,
      "outputs": []
    }
  ],
  "metadata": {
    "colab": {
      "provenance": [],
      "authorship_tag": "ABX9TyN3TnSmNQponIJRwpOAlXJS"
    },
    "kernelspec": {
      "display_name": "Python 3",
      "name": "python3"
    },
    "language_info": {
      "name": "python"
    }
  },
  "nbformat": 4,
  "nbformat_minor": 0
}