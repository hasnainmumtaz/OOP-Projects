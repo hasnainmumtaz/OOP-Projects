{
  "nbformat": 4,
  "nbformat_minor": 0,
  "metadata": {
    "colab": {
      "provenance": [],
      "authorship_tag": "ABX9TyPe70c6GE5k7jh/Lwuus91o"
    },
    "kernelspec": {
      "name": "python3",
      "display_name": "Python 3"
    },
    "language_info": {
      "name": "python"
    }
  },
  "cells": [
    {
      "cell_type": "markdown",
      "source": [
        "# Battle Simulator\n",
        "In this practice code I will try to simulate battle between a hunter and an animal"
      ],
      "metadata": {
        "id": "adRnTUFAwrbe"
      }
    },
    {
      "cell_type": "code",
      "source": [
        "import random"
      ],
      "metadata": {
        "id": "6nHu69VTzOLp"
      },
      "execution_count": 238,
      "outputs": []
    },
    {
      "cell_type": "code",
      "execution_count": 239,
      "metadata": {
        "id": "KbjbvGhaLZFL"
      },
      "outputs": [],
      "source": [
        "class Hunter:\n",
        "\n",
        "  status_shield = False\n",
        "  weapon = None\n",
        "\n",
        "  # Functions\n",
        "\n",
        "  ## Initial Definitions\n",
        "  def __init__(self,name,hp,atk,alive,money):\n",
        "    self.name = name\n",
        "    self.hp = hp\n",
        "    self.atk = atk\n",
        "    self.alive = alive\n",
        "    self.money = money\n",
        "\n",
        "  ## Toggling the shield\n",
        "  #def toggle_shield(self):\n",
        "  #   if self.status_shield == False:\n",
        "  #    self.status_shield = True\n",
        "  #  else:\n",
        "  #    self.status_shield = False\n",
        "\n",
        "  ## Toggling the weapon\n",
        "  def toggle_weapon(self,e_weapon):\n",
        "    if self.weapon == None:\n",
        "      self.weapon = e_weapon.name\n",
        "      self.atk = e_weapon.atk\n",
        "      print(f\"{self.name}'s weapon has been changed to {e_weapon.name}\")\n",
        "    else:\n",
        "      self.weapon = None\n",
        "      self.atk = 1\n",
        "      print(f\"{self.name} is bare hands now!\")\n",
        "\n",
        "\n",
        "  ## Attack using the available weapon\n",
        "  def attack(self):\n",
        "    if self.weapon == None:\n",
        "      print(f\"{self.name} attacked bare hands! {self.atk} damage was dealt\")\n",
        "    else:\n",
        "      print(f\"{self.name} attacked with {self.weapon}! {self.atk} damage was dealt\")\n",
        "      pass\n",
        "\n",
        "\n",
        "## Defining the animal class\n",
        "class Animal:\n",
        "  def __init__(self,name,hp,atk):\n",
        "    self.name = name\n",
        "    self.hp = hp\n",
        "    self.atk = atk\n",
        "    self.reward = 10\n",
        "\n",
        "## Defininf the weapon class\n",
        "class Weapon:\n",
        "  def __init__(self,name,atk):\n",
        "    self.name = name\n",
        "    self.atk = atk\n"
      ]
    },
    {
      "cell_type": "code",
      "source": [
        "rango = Hunter(\"Rango\",100,1,True,0)\n",
        "sword = Weapon(\"sword\",5)\n",
        "spike = Weapon(\"spike\",7)\n",
        "buck = Animal(\"Buck\",20,0)"
      ],
      "metadata": {
        "id": "z2Vu1_WyMv0f"
      },
      "execution_count": 240,
      "outputs": []
    },
    {
      "cell_type": "code",
      "source": [
        "buck.reward"
      ],
      "metadata": {
        "colab": {
          "base_uri": "https://localhost:8080/"
        },
        "id": "btkKrQvyzRz5",
        "outputId": "cf4273fe-5f0f-4812-9d97-30363e909413"
      },
      "execution_count": 241,
      "outputs": [
        {
          "output_type": "execute_result",
          "data": {
            "text/plain": [
              "10"
            ]
          },
          "metadata": {},
          "execution_count": 241
        }
      ]
    },
    {
      "cell_type": "code",
      "source": [
        "rango.toggle_weapon(spike)\n",
        "rango.attack()"
      ],
      "metadata": {
        "colab": {
          "base_uri": "https://localhost:8080/"
        },
        "id": "6j2na36XzhcY",
        "outputId": "19d8ecb1-4834-413b-db49-7b75f7bda922"
      },
      "execution_count": 242,
      "outputs": [
        {
          "output_type": "stream",
          "name": "stdout",
          "text": [
            "Rango's weapon has been changed to spike\n",
            "Rango attacked with spike! 7 damage was dealt\n"
          ]
        }
      ]
    },
    {
      "cell_type": "code",
      "source": [
        "## Simulating Fight\n",
        "def simfight(hunter,animal):\n",
        "  while animal.hp > 0:\n",
        "    animal.hp -= hunter.atk\n",
        "    hunter.attack()\n",
        "\n",
        "  if animal.hp < 0:\n",
        "    hunter.money += animal.reward\n",
        "    print(f\"{animal.name} is dead!\")\n",
        "    print(f\"{hunter.name} got {animal.reward} coins! Total: {hunter.money} Coins\")"
      ],
      "metadata": {
        "id": "SqmGQTIM1Q-U"
      },
      "execution_count": 243,
      "outputs": []
    },
    {
      "cell_type": "code",
      "source": [
        "simfight(rango,buck)"
      ],
      "metadata": {
        "colab": {
          "base_uri": "https://localhost:8080/"
        },
        "id": "HaDaU6h52b03",
        "outputId": "2b406eb9-3620-499c-fdd6-26b5f79a9c74"
      },
      "execution_count": 244,
      "outputs": [
        {
          "output_type": "stream",
          "name": "stdout",
          "text": [
            "Rango attacked with spike! 7 damage was dealt\n",
            "Rango attacked with spike! 7 damage was dealt\n",
            "Rango attacked with spike! 7 damage was dealt\n",
            "Buck is dead!\n",
            "Rango got 10 coins! Total: 10 Coins\n"
          ]
        }
      ]
    },
    {
      "cell_type": "code",
      "source": [],
      "metadata": {
        "id": "NmIe3ppk2-Xu"
      },
      "execution_count": 244,
      "outputs": []
    }
  ]
}