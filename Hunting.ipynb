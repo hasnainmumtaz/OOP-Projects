{
  "nbformat": 4,
  "nbformat_minor": 0,
  "metadata": {
    "colab": {
      "provenance": [],
      "authorship_tag": "ABX9TyP43A2omloxWIs8ypjF5tQB"
    },
    "kernelspec": {
      "name": "python3",
      "display_name": "Python 3"
    },
    "language_info": {
      "name": "python"
    }
  },
  "cells": [
    {
      "cell_type": "markdown",
      "source": [
        "# Battle Simulator\n",
        "In this practice code I will try to simulate battle between a hunter and an animal"
      ],
      "metadata": {
        "id": "adRnTUFAwrbe"
      }
    },
    {
      "cell_type": "code",
      "execution_count": 145,
      "metadata": {
        "id": "KbjbvGhaLZFL"
      },
      "outputs": [],
      "source": [
        "from logging import fatal\n",
        "class User:\n",
        "\n",
        "  status_shield = False\n",
        "  weapon = None\n",
        "\n",
        "  # Functions\n",
        "\n",
        "  ## Initial Definitions\n",
        "  def __init__(self,name,hp,atk,alive):\n",
        "    self.name = name\n",
        "    self.hp = hp\n",
        "    self.atk = atk\n",
        "    self.alive = alive\n",
        "\n",
        "  ## Toggling the shield\n",
        "  def toggle_shield(self):\n",
        "    if self.status_shield == False:\n",
        "      self.status_shield = True\n",
        "    else:\n",
        "      self.status_shield = False\n",
        "\n",
        "  ## Toggling the weapon\n",
        "  def toggle_sword(self):\n",
        "    if self.weapon == None:\n",
        "      self.weapon = \"sword\"\n",
        "    else:\n",
        "      self.weapon = None\n",
        "\n",
        "\n",
        "\n",
        "  def attack(self):\n",
        "    if self.weapon == None:\n",
        "      print(f\"{self.name} attacked bare hands!\")\n",
        "    else:\n",
        "      print(f\"{self.name} attacked with {self.weapon}!\")\n",
        "      pass\n",
        "\n",
        "\n",
        "\n",
        "\n"
      ]
    },
    {
      "cell_type": "code",
      "source": [
        "rango = User(\"Rango\",100,1,True)"
      ],
      "metadata": {
        "id": "z2Vu1_WyMv0f"
      },
      "execution_count": 146,
      "outputs": []
    }
  ]
}